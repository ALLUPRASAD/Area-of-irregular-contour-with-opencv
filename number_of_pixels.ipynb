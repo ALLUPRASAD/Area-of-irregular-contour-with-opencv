{
  "nbformat": 4,
  "nbformat_minor": 0,
  "metadata": {
    "colab": {
      "name": "number of pixels.ipynb",
      "provenance": [],
      "collapsed_sections": [],
      "toc_visible": true
    },
    "kernelspec": {
      "name": "python3",
      "display_name": "Python 3"
    }
  },
  "cells": [
    {
      "cell_type": "code",
      "metadata": {
        "id": "zY9GYpJrVSUp",
        "colab_type": "code",
        "colab": {}
      },
      "source": [
        "import numpy as np\n"
      ],
      "execution_count": 0,
      "outputs": []
    },
    {
      "cell_type": "code",
      "metadata": {
        "id": "2ckIuXxqVmWr",
        "colab_type": "code",
        "colab": {}
      },
      "source": [
        "from google.colab.patches import cv2_imshow"
      ],
      "execution_count": 0,
      "outputs": []
    },
    {
      "cell_type": "code",
      "metadata": {
        "id": "KjyraK_wlub2",
        "colab_type": "code",
        "colab": {
          "base_uri": "https://localhost:8080/",
          "height": 276
        },
        "outputId": "ecd18090-b1f5-46e9-c547-a07f7301a25c"
      },
      "source": [
        "import cv2\n",
        "img = cv2.imread('/content/images.png',0)\n",
        "cv2_imshow(img)\n",
        "number_pixels=np.sum(img!=0)\n",
        "black_pixels=np.sum(img<200)\n",
        "print(number_pixels)\n",
        "print(black_pixels)\n",
        "cv2.waitKey(0)\n",
        "cv2.destroyAllWindows()\n"
      ],
      "execution_count": 31,
      "outputs": [
        {
          "output_type": "display_data",
          "data": {
            "image/png": "[encoded data removed]",
            "text/plain": [
              "<PIL.Image.Image image mode=L size=225x225 at 0x7F9960DF99B0>"
            ]
          },
          "metadata": {
            "tags": []
          }
        },
        {
          "output_type": "stream",
          "text": [
            "50625\n",
            "20196\n"
          ],
          "name": "stdout"
        }
      ]
    },
    {
      "cell_type": "code",
      "metadata": {
        "id": "y9dVADX0luev",
        "colab_type": "code",
        "colab": {
          "base_uri": "https://localhost:8080/",
          "height": 265
        },
        "outputId": "0f8c9fc0-6c30-4e38-b696-e569ec3925da"
      },
      "source": [
        "histr = cv2.calcHist([img],[0],None,[256],[0,256]) \n",
        "  \n",
        "# show the plotting graph of an image \n",
        "plt.plot(histr) \n",
        "plt.show()"
      ],
      "execution_count": 96,
      "outputs": [
        {
          "output_type": "display_data",
          "data": {
            "image/png": "[encoded data removed]",
            "text/plain": [
              "<Figure size 432x288 with 1 Axes>"
            ]
          },
          "metadata": {
            "tags": []
          }
        }
      ]
    },
    {
      "cell_type": "code",
      "metadata": {
        "id": "w7_YJOuWluha",
        "colab_type": "code",
        "colab": {}
      },
      "source": [
        ""
      ],
      "execution_count": 0,
      "outputs": []
    },
    {
      "cell_type": "code",
      "metadata": {
        "id": "httPta-ilukG",
        "colab_type": "code",
        "colab": {}
      },
      "source": [
        ""
      ],
      "execution_count": 0,
      "outputs": []
    },
    {
      "cell_type": "code",
      "metadata": {
        "id": "oxEArxsdlunN",
        "colab_type": "code",
        "colab": {}
      },
      "source": [
        ""
      ],
      "execution_count": 0,
      "outputs": []
    },
    {
      "cell_type": "code",
      "metadata": {
        "id": "AAJNq-LJlupo",
        "colab_type": "code",
        "colab": {}
      },
      "source": [
        ""
      ],
      "execution_count": 0,
      "outputs": []
    },
    {
      "cell_type": "code",
      "metadata": {
        "id": "ahMkIFGFluse",
        "colab_type": "code",
        "colab": {}
      },
      "source": [
        ""
      ],
      "execution_count": 0,
      "outputs": []
    },
    {
      "cell_type": "code",
      "metadata": {
        "id": "btV46mK6luvB",
        "colab_type": "code",
        "colab": {}
      },
      "source": [
        ""
      ],
      "execution_count": 0,
      "outputs": []
    },
    {
      "cell_type": "code",
      "metadata": {
        "id": "ZqqVubDEVeko",
        "colab_type": "code",
        "colab": {
          "base_uri": "https://localhost:8080/",
          "height": 409
        },
        "outputId": "4e8027ab-3612-4d75-cc3f-fd10cf6120e3"
      },
      "source": [
        "import cv2\n",
        "img = cv2.imread('/content/2007_000346.png',1)\n",
        "cv2_imshow(img)\n",
        "cv2.waitKey(0)\n",
        "cv2.destroyAllWindows()\n",
        "print(img[img!=0])"
      ],
      "execution_count": 102,
      "outputs": [
        {
          "output_type": "display_data",
          "data": {
            "image/png": "[encoded data removed]",
            "text/plain": [
              "<PIL.Image.Image image mode=RGB size=500x375 at 0x7F1CA8FE6DA0>"
            ]
          },
          "metadata": {
            "tags": []
          }
        },
        {
          "output_type": "stream",
          "text": [
            "[192 224 224 ... 192 224 224]\n"
          ],
          "name": "stdout"
        }
      ]
    },
    {
      "cell_type": "code",
      "metadata": {
        "id": "7RqrHVtp2taj",
        "colab_type": "code",
        "colab": {
          "base_uri": "https://localhost:8080/",
          "height": 377
        },
        "outputId": "9658eb17-f92d-452a-a4da-8bd72c6b9e1f"
      },
      "source": [
        "img2='/content/2007_000256.png'\n",
        "img2=cv2.imread(img2,1)\n",
        "img1= cv2.cvtColor(img2, cv2.COLOR_BGR2RGB)\n",
        "cv2_imshow(img1)\n",
        "number_pixels12=np.sum(img1!=0)\n",
        "print(number_pixels12)\n",
        "cv2.waitKey(0)\n",
        "cv2.destroyAllWindows()"
      ],
      "execution_count": 206,
      "outputs": [
        {
          "output_type": "display_data",
          "data": {
            "image/png": "[encoded data removed]",
            "text/plain": [
              "<PIL.Image.Image image mode=RGB size=500x343 at 0x7F1CA8F5B2B0>"
            ]
          },
          "metadata": {
            "tags": []
          }
        },
        {
          "output_type": "stream",
          "text": [
            "40149\n"
          ],
          "name": "stdout"
        }
      ]
    },
    {
      "cell_type": "code",
      "metadata": {
        "id": "O9Ebloxs7tOn",
        "colab_type": "code",
        "colab": {
          "base_uri": "https://localhost:8080/",
          "height": 377
        },
        "outputId": "af90fe7a-f91f-43d4-b168-29539a1d6332"
      },
      "source": [
        "hsv_frame = cv2.cvtColor(img2, cv2.COLOR_BGR2HSV)\n",
        "low11 = np.array([0, 50, 50])\n",
        "high11 = np.array([250, 255, 255])\n",
        "mask11=cv2.inRange(hsv_frame, low11, high11)\n",
        "result11 = cv2.bitwise_and(img2,img2, mask=mask11)\n",
        "number_pixels11=np.sum(result11!=0)\n",
        "print(number_pixels11)\n",
        "cv2_imshow(result11)\n",
        "cv2.waitKey(0)\n",
        "cv2.destroyAllWindows()"
      ],
      "execution_count": 205,
      "outputs": [
        {
          "output_type": "stream",
          "text": [
            "15861\n"
          ],
          "name": "stdout"
        },
        {
          "output_type": "display_data",
          "data": {
            "image/png": "[encoded data removed]",
            "text/plain": [
              "<PIL.Image.Image image mode=RGB size=500x343 at 0x7F1CA8F5BBE0>"
            ]
          },
          "metadata": {
            "tags": []
          }
        }
      ]
    },
    {
      "cell_type": "code",
      "metadata": {
        "id": "gBESjD1W7tcX",
        "colab_type": "code",
        "colab": {}
      },
      "source": [
        ""
      ],
      "execution_count": 0,
      "outputs": []
    },
    {
      "cell_type": "code",
      "metadata": {
        "id": "iJuA1Pcn7tj8",
        "colab_type": "code",
        "colab": {}
      },
      "source": [
        ""
      ],
      "execution_count": 0,
      "outputs": []
    },
    {
      "cell_type": "code",
      "metadata": {
        "id": "BVKsQ-q_t0pe",
        "colab_type": "code",
        "colab": {
          "base_uri": "https://localhost:8080/",
          "height": 409
        },
        "outputId": "84e5446e-96d7-4318-bd66-4aaf7cc949ee"
      },
      "source": [
        "hsv_frame = cv2.cvtColor(img, cv2.COLOR_BGR2HSV)\n",
        "cv2_imshow(hsv_frame)\n",
        "number_pixels0=np.sum(hsv_frame!=0)\n",
        "print(number_pixels0)\n",
        "cv2.waitKey(0)\n",
        "cv2.destroyAllWindows()"
      ],
      "execution_count": 207,
      "outputs": [
        {
          "output_type": "display_data",
          "data": {
            "image/png": "[encoded data removed]",
            "text/plain": [
              "<PIL.Image.Image image mode=RGB size=500x375 at 0x7F1CA8F737F0>"
            ]
          },
          "metadata": {
            "tags": []
          }
        },
        {
          "output_type": "stream",
          "text": [
            "168409\n"
          ],
          "name": "stdout"
        }
      ]
    },
    {
      "cell_type": "code",
      "metadata": {
        "id": "97U-NNRst0yX",
        "colab_type": "code",
        "colab": {
          "base_uri": "https://localhost:8080/",
          "height": 409
        },
        "outputId": "53a5fe6f-72fe-4dc8-86ec-62546d852a1f"
      },
      "source": [
        "\n",
        "low2 = np.array([18, 180, 0])\n",
        "high2 = np.array([255, 255, 255])\n",
        "mask2 = cv2.inRange(hsv_frame, low2, high2)\n",
        "result = cv2.bitwise_and(hsv_frame,hsv_frame, mask=mask2)\n",
        "number_pixels=np.sum(result!=0)\n",
        "print(number_pixels)\n",
        "cv2_imshow(result)\n",
        "cv2.waitKey(0)\n",
        "cv2.destroyAllWindows()"
      ],
      "execution_count": 208,
      "outputs": [
        {
          "output_type": "stream",
          "text": [
            "43989\n"
          ],
          "name": "stdout"
        },
        {
          "output_type": "display_data",
          "data": {
            "image/png": "[encoded data removed]",
            "text/plain": [
              "<PIL.Image.Image image mode=RGB size=500x375 at 0x7F1CA8F5B940>"
            ]
          },
          "metadata": {
            "tags": []
          }
        }
      ]
    },
    {
      "cell_type": "code",
      "metadata": {
        "id": "HJE0fGFO49Ui",
        "colab_type": "code",
        "colab": {
          "base_uri": "https://localhost:8080/",
          "height": 409
        },
        "outputId": "3eb94c39-10fe-4d9d-9175-4cc0cb4376a6"
      },
      "source": [
        "low2 = np.array([0,0,5])\n",
        "high2 = np.array([0, 245, 250])\n",
        "mask2 = cv2.inRange(hsv_frame, low2, high2)\n",
        "result = cv2.bitwise_and(hsv_frame,hsv_frame, mask=mask2)\n",
        "number_pixels=np.sum(result!=0)\n",
        "print(number_pixels)\n",
        "cv2_imshow(result)\n",
        "cv2.waitKey(0)\n",
        "cv2.destroyAllWindows()"
      ],
      "execution_count": 227,
      "outputs": [
        {
          "output_type": "stream",
          "text": [
            "103150\n"
          ],
          "name": "stdout"
        },
        {
          "output_type": "display_data",
          "data": {
            "image/png": "[encoded data removed]",
            "text/plain": [
              "<PIL.Image.Image image mode=RGB size=500x375 at 0x7F1CA8F5BB70>"
            ]
          },
          "metadata": {
            "tags": []
          }
        }
      ]
    },
    {
      "cell_type": "code",
      "metadata": {
        "id": "CzRZLkoTA2yN",
        "colab_type": "code",
        "colab": {}
      },
      "source": [
        ""
      ],
      "execution_count": 0,
      "outputs": []
    },
    {
      "cell_type": "code",
      "metadata": {
        "id": "OiiPT4NPA6er",
        "colab_type": "code",
        "colab": {}
      },
      "source": [
        ""
      ],
      "execution_count": 0,
      "outputs": []
    },
    {
      "cell_type": "code",
      "metadata": {
        "id": "Btj1nOlIA6h1",
        "colab_type": "code",
        "colab": {
          "base_uri": "https://localhost:8080/",
          "height": 242
        },
        "outputId": "66b8e9ed-8639-43c8-92e1-994ef65f6ae0"
      },
      "source": [
        "pat='/content/images.png'\n",
        "im=cv2.imread(pat,1)\n",
        "cv2_imshow(im)\n",
        "cv2.waitKey(0)\n",
        "cv2.destroyAllWindows()"
      ],
      "execution_count": 32,
      "outputs": [
        {
          "output_type": "display_data",
          "data": {
            "image/png": "[encoded data removed]",
            "text/plain": [
              "<PIL.Image.Image image mode=RGB size=225x225 at 0x7F9960DF94A8>"
            ]
          },
          "metadata": {
            "tags": []
          }
        }
      ]
    },
    {
      "cell_type": "code",
      "metadata": {
        "id": "NH3F8oz8A6md",
        "colab_type": "code",
        "colab": {
          "base_uri": "https://localhost:8080/",
          "height": 259
        },
        "outputId": "f0062da0-da17-4373-945e-c43fdc709962"
      },
      "source": [
        "hsv_f = cv2.cvtColor(im, cv2.COLOR_BGR2HSV)\n",
        "cv2_imshow(hsv_f)\n",
        "number_pixels0=np.sum(hsv_f!=0)\n",
        "print(number_pixels0)\n",
        "cv2.waitKey(0)\n",
        "cv2.destroyAllWindows()"
      ],
      "execution_count": 33,
      "outputs": [
        {
          "output_type": "display_data",
          "data": {
            "image/png": "[encoded data removed]",
            "text/plain": [
              "<PIL.Image.Image image mode=RGB size=225x225 at 0x7F9960DF96D8>"
            ]
          },
          "metadata": {
            "tags": []
          }
        },
        {
          "output_type": "stream",
          "text": [
            "90934\n"
          ],
          "name": "stdout"
        }
      ]
    },
    {
      "cell_type": "code",
      "metadata": {
        "id": "XsIPm0q-DMiE",
        "colab_type": "code",
        "colab": {
          "base_uri": "https://localhost:8080/",
          "height": 259
        },
        "outputId": "d9d40178-0a70-4a8b-f5c4-adddfe1a02c8"
      },
      "source": [
        "lo = np.array([0,10,40])\n",
        "hi = np.array([255, 255, 255])\n",
        "mas = cv2.inRange(hsv_f, lo, hi)\n",
        "resul = cv2.bitwise_and(hsv_f,hsv_f, mask=mas)\n",
        "number_pixels=np.sum(resul!=0)\n",
        "\n",
        "print(number_pixels)\n",
        "cv2_imshow(resul)\n",
        "cv2.waitKey(0)\n",
        "cv2.destroyAllWindows()"
      ],
      "execution_count": 39,
      "outputs": [
        {
          "output_type": "stream",
          "text": [
            "60393\n"
          ],
          "name": "stdout"
        },
        {
          "output_type": "display_data",
          "data": {
            "image/png": "[encoded data removed]",
            "text/plain": [
              "<PIL.Image.Image image mode=RGB size=225x225 at 0x7F9960E02208>"
            ]
          },
          "metadata": {
            "tags": []
          }
        }
      ]
    },
    {
      "cell_type": "code",
      "metadata": {
        "id": "wJRrtCl0DMk5",
        "colab_type": "code",
        "colab": {
          "base_uri": "https://localhost:8080/",
          "height": 259
        },
        "outputId": "acd7fde9-82c7-4c21-88bd-f3451db6e56a"
      },
      "source": [
        "gray = cv2.cvtColor(resul, cv2.COLOR_BGR2GRAY)\n",
        "number_pixels=np.sum(gray!=0)\n",
        "print(number_pixels)\n",
        "cv2_imshow(gray)\n",
        "cv2.waitKey(0)\n",
        "cv2.destroyAllWindows()"
      ],
      "execution_count": 40,
      "outputs": [
        {
          "output_type": "stream",
          "text": [
            "20299\n"
          ],
          "name": "stdout"
        },
        {
          "output_type": "display_data",
          "data": {
            "image/png": "[encoded data removed]",
            "text/plain": [
              "<PIL.Image.Image image mode=L size=225x225 at 0x7F9960DF9E48>"
            ]
          },
          "metadata": {
            "tags": []
          }
        }
      ]
    },
    {
      "cell_type": "code",
      "metadata": {
        "id": "cnxaUoZKDMnc",
        "colab_type": "code",
        "colab": {}
      },
      "source": [
        ""
      ],
      "execution_count": 0,
      "outputs": []
    },
    {
      "cell_type": "code",
      "metadata": {
        "id": "aAweTx5NDMqW",
        "colab_type": "code",
        "colab": {}
      },
      "source": [
        ""
      ],
      "execution_count": 0,
      "outputs": []
    },
    {
      "cell_type": "code",
      "metadata": {
        "id": "AWMXd5LPDMvp",
        "colab_type": "code",
        "colab": {}
      },
      "source": [
        ""
      ],
      "execution_count": 0,
      "outputs": []
    },
    {
      "cell_type": "code",
      "metadata": {
        "id": "9bdMkq0QDMyO",
        "colab_type": "code",
        "colab": {}
      },
      "source": [
        ""
      ],
      "execution_count": 0,
      "outputs": []
    },
    {
      "cell_type": "code",
      "metadata": {
        "id": "1mLZIqGIDM0-",
        "colab_type": "code",
        "colab": {}
      },
      "source": [
        ""
      ],
      "execution_count": 0,
      "outputs": []
    },
    {
      "cell_type": "code",
      "metadata": {
        "id": "w8mr8LzVDM3l",
        "colab_type": "code",
        "colab": {}
      },
      "source": [
        ""
      ],
      "execution_count": 0,
      "outputs": []
    },
    {
      "cell_type": "code",
      "metadata": {
        "id": "GORHHESiDMtG",
        "colab_type": "code",
        "colab": {}
      },
      "source": [
        ""
      ],
      "execution_count": 0,
      "outputs": []
    },
    {
      "cell_type": "code",
      "metadata": {
        "id": "H_a-MkQYA6kM",
        "colab_type": "code",
        "colab": {}
      },
      "source": [
        ""
      ],
      "execution_count": 0,
      "outputs": []
    },
    {
      "cell_type": "code",
      "metadata": {
        "id": "vFgkBQLGt01h",
        "colab_type": "code",
        "colab": {
          "base_uri": "https://localhost:8080/",
          "height": 34
        },
        "outputId": "7e50e880-492a-44d7-eabb-0b66ea6e6ddd"
      },
      "source": [
        "green = np.uint8([[[0,255,0 ]]])\n",
        "hsv_green = cv2.cvtColor(green,cv2.COLOR_BGR2HSV)\n",
        "print (hsv_green)"
      ],
      "execution_count": 181,
      "outputs": [
        {
          "output_type": "stream",
          "text": [
            "[[[ 60 255 255]]]\n"
          ],
          "name": "stdout"
        }
      ]
    },
    {
      "cell_type": "code",
      "metadata": {
        "id": "9IoTsSeWt033",
        "colab_type": "code",
        "colab": {
          "base_uri": "https://localhost:8080/",
          "height": 34
        },
        "outputId": "257cb48f-17bd-4cf9-c4f8-4484c7633259"
      },
      "source": [
        "green = np.uint8([[[255,0,0 ]]])\n",
        "hsv_green = cv2.cvtColor(green,cv2.COLOR_BGR2HSV)\n",
        "print (hsv_green)"
      ],
      "execution_count": 184,
      "outputs": [
        {
          "output_type": "stream",
          "text": [
            "[[[120 255 255]]]\n"
          ],
          "name": "stdout"
        }
      ]
    },
    {
      "cell_type": "code",
      "metadata": {
        "id": "fsuPPBus6kf0",
        "colab_type": "code",
        "colab": {
          "base_uri": "https://localhost:8080/",
          "height": 34
        },
        "outputId": "6141bc47-8715-4d2b-bcf7-4699f42a8f2c"
      },
      "source": [
        "green = np.uint8([[[0,0,255 ]]])\n",
        "hsv_green = cv2.cvtColor(green,cv2.COLOR_BGR2HSV)\n",
        "print (hsv_green)"
      ],
      "execution_count": 185,
      "outputs": [
        {
          "output_type": "stream",
          "text": [
            "[[[  0 255 255]]]\n"
          ],
          "name": "stdout"
        }
      ]
    },
    {
      "cell_type": "code",
      "metadata": {
        "id": "IYJFJYIhbMei",
        "colab_type": "code",
        "colab": {
          "base_uri": "https://localhost:8080/",
          "height": 34
        },
        "outputId": "b1a4418d-9d34-4709-c57e-b9284112f92c"
      },
      "source": [
        "n_white_pix = np.sum(img !=0)\n",
        "print('Number of  pixels in contours :', n_white_pix)"
      ],
      "execution_count": 5,
      "outputs": [
        {
          "output_type": "stream",
          "text": [
            "Number of  pixels in contours : 205321\n"
          ],
          "name": "stdout"
        }
      ]
    },
    {
      "cell_type": "code",
      "metadata": {
        "id": "0OBhqaPIpgTq",
        "colab_type": "code",
        "colab": {}
      },
      "source": [
        ""
      ],
      "execution_count": 0,
      "outputs": []
    },
    {
      "cell_type": "code",
      "metadata": {
        "id": "frj1S2XFro5l",
        "colab_type": "code",
        "colab": {}
      },
      "source": [
        ""
      ],
      "execution_count": 0,
      "outputs": []
    },
    {
      "cell_type": "code",
      "metadata": {
        "id": "3ThcK6pQro8l",
        "colab_type": "code",
        "colab": {}
      },
      "source": [
        ""
      ],
      "execution_count": 0,
      "outputs": []
    },
    {
      "cell_type": "code",
      "metadata": {
        "id": "jsHv2tLiro_b",
        "colab_type": "code",
        "colab": {}
      },
      "source": [
        "import cv2\n",
        "import numpy as np\n",
        "\n",
        "\n",
        "cap = cv2.VideoCapture(0)\n",
        "\n",
        "def nothing(x):\n",
        "    pass\n",
        "# Creating a window for later use\n",
        "cv2.namedWindow('result')\n",
        "\n",
        "# Starting with 100's to prevent error while masking\n",
        "h,s,v = 100,100,100\n",
        "\n",
        "# Creating track bar\n",
        "cv2.createTrackbar('h', 'result',0,179,nothing)\n",
        "cv2.createTrackbar('s', 'result',0,255,nothing)\n",
        "cv2.createTrackbar('v', 'result',0,255,nothing)\n",
        "\n",
        "while(1):\n",
        "\n",
        "    _, frame = cap.read()\n",
        "\n",
        "    #converting to HSV\n",
        "    hsv = cv2.cvtColor(frame,cv2.COLOR_BGR2HSV)\n",
        "\n",
        "    # get info from track bar and appy to result\n",
        "    h = cv2.getTrackbarPos('h','result')\n",
        "    s = cv2.getTrackbarPos('s','result')\n",
        "    v = cv2.getTrackbarPos('v','result')\n",
        "\n",
        "    # Normal masking algorithm\n",
        "    lower_blue = np.array([h,s,v])\n",
        "    upper_blue = np.array([180,255,255])\n",
        "\n",
        "    mask = cv2.inRange(hsv,lower_blue, upper_blue)"
      ],
      "execution_count": 0,
      "outputs": []
    },
    {
      "cell_type": "code",
      "metadata": {
        "id": "nO0X-zKRrpCQ",
        "colab_type": "code",
        "colab": {}
      },
      "source": [
        ""
      ],
      "execution_count": 0,
      "outputs": []
    },
    {
      "cell_type": "code",
      "metadata": {
        "id": "J9tfWazxrpEy",
        "colab_type": "code",
        "colab": {}
      },
      "source": [
        ""
      ],
      "execution_count": 0,
      "outputs": []
    },
    {
      "cell_type": "code",
      "metadata": {
        "id": "lbXsKIdhrpHd",
        "colab_type": "code",
        "colab": {}
      },
      "source": [
        ""
      ],
      "execution_count": 0,
      "outputs": []
    },
    {
      "cell_type": "code",
      "metadata": {
        "id": "lxf6usFFpgWd",
        "colab_type": "code",
        "colab": {
          "base_uri": "https://localhost:8080/",
          "height": 392
        },
        "outputId": "5c5e390d-770b-45f7-b122-79597659edae"
      },
      "source": [
        "\n",
        "\n",
        "\n",
        "hsv = cv2.cvtColor(img, cv2.COLOR_BGR2HSV)\n",
        "\n",
        "mask = cv2.inRange(hsv, (5, 50, 50), (15, 255,255))\n",
        "\n",
        "## slice the green\n",
        "imask = mask>0\n",
        "green = np.zeros_like(img, np.uint8)\n",
        "green[imask] = img[imask]\n",
        "cv2_imshow(green)\n",
        "cv2.waitKey(0)\n",
        "cv2.destroyAllWindows()"
      ],
      "execution_count": 116,
      "outputs": [
        {
          "output_type": "display_data",
          "data": {
            "image/png": "[encoded data removed]",
            "text/plain": [
              "<PIL.Image.Image image mode=RGB size=500x375 at 0x7F1CA8F72BE0>"
            ]
          },
          "metadata": {
            "tags": []
          }
        }
      ]
    },
    {
      "cell_type": "code",
      "metadata": {
        "id": "0kNLDFbbpgZJ",
        "colab_type": "code",
        "colab": {
          "base_uri": "https://localhost:8080/",
          "height": 392
        },
        "outputId": "2d5772f9-8476-4798-d994-47c25d8595dc"
      },
      "source": [
        "ORANGE_MIN = np.array([5, 50, 50],np.uint8)\n",
        "ORANGE_MAX = np.array([15, 255, 255],np.uint8)\n",
        "\n",
        "hsv_img = cv2.cvtColor(img,cv2.COLOR_BGR2HSV)\n",
        "\n",
        "frame_threshed = cv2.inRange(hsv_img, ORANGE_MIN, ORANGE_MAX)\n",
        "cv2_imshow(frame_threshed)\n",
        "cv2.waitKey(0)\n",
        "cv2.destroyAllWindows()"
      ],
      "execution_count": 117,
      "outputs": [
        {
          "output_type": "display_data",
          "data": {
            "image/png": "[encoded data removed]",
            "text/plain": [
              "<PIL.Image.Image image mode=L size=500x375 at 0x7F1CA8F72A90>"
            ]
          },
          "metadata": {
            "tags": []
          }
        }
      ]
    },
    {
      "cell_type": "code",
      "metadata": {
        "id": "talxc8S5pger",
        "colab_type": "code",
        "colab": {}
      },
      "source": [
        ""
      ],
      "execution_count": 0,
      "outputs": []
    },
    {
      "cell_type": "code",
      "metadata": {
        "id": "QS5WTwbspgjt",
        "colab_type": "code",
        "colab": {}
      },
      "source": [
        ""
      ],
      "execution_count": 0,
      "outputs": []
    },
    {
      "cell_type": "code",
      "metadata": {
        "id": "IJ7CFomopghp",
        "colab_type": "code",
        "colab": {}
      },
      "source": [
        ""
      ],
      "execution_count": 0,
      "outputs": []
    },
    {
      "cell_type": "code",
      "metadata": {
        "id": "gSotjRTfbz-F",
        "colab_type": "code",
        "colab": {
          "base_uri": "https://localhost:8080/",
          "height": 784
        },
        "outputId": "ea6857a7-1042-4a9c-c5b9-3a1a1241f32c"
      },
      "source": [
        "edged = cv2.Canny(img, 130, 140) \n",
        "contours, hierarchy = cv2.findContours(edged,cv2.RETR_EXTERNAL, cv2.CHAIN_APPROX_NONE)\n",
        "cv2_imshow(edged) \n",
        "cv2.waitKey(0)\n",
        "print(\"Number of Contours found = \" + str(len(contours))) \n",
        "cv2.drawContours(img, contours, -1, (0, 255, 0), 3) \n",
        "cv2_imshow(img) \n",
        "cv2.waitKey(0) \n",
        "cv2.destroyAllWindows() \n",
        "\t\n"
      ],
      "execution_count": 68,
      "outputs": [
        {
          "output_type": "display_data",
          "data": {
            "image/png": "[encoded data removed]",
            "text/plain": [
              "<PIL.Image.Image image mode=L size=500x375 at 0x7F1CA9891438>"
            ]
          },
          "metadata": {
            "tags": []
          }
        },
        {
          "output_type": "stream",
          "text": [
            "Number of Contours found = 17\n"
          ],
          "name": "stdout"
        },
        {
          "output_type": "display_data",
          "data": {
            "image/png": "[encoded data removed]",
            "text/plain": [
              "<PIL.Image.Image image mode=RGB size=500x375 at 0x7F1CA9891518>"
            ]
          },
          "metadata": {
            "tags": []
          }
        }
      ]
    },
    {
      "cell_type": "code",
      "metadata": {
        "id": "OmElIf2tlr-X",
        "colab_type": "code",
        "colab": {}
      },
      "source": [
        "#for i in contours:\n",
        "  #print(i)"
      ],
      "execution_count": 0,
      "outputs": []
    },
    {
      "cell_type": "code",
      "metadata": {
        "id": "6BaAJuFdsHeu",
        "colab_type": "code",
        "colab": {}
      },
      "source": [
        ""
      ],
      "execution_count": 0,
      "outputs": []
    },
    {
      "cell_type": "code",
      "metadata": {
        "id": "rV4csN81ThDd",
        "colab_type": "code",
        "colab": {
          "base_uri": "https://localhost:8080/",
          "height": 54
        },
        "outputId": "156dc5df-526d-4b11-9f91-d7a52c0b694c"
      },
      "source": [
        "#cnt = contours[0]\n",
        "#M = cv2.moments(cnt)\n",
        "#print(M)"
      ],
      "execution_count": 17,
      "outputs": [
        {
          "output_type": "stream",
          "text": [
            "{'m00': 1.5, 'm10': 334.8333333333333, 'm01': 518.6666666666666, 'm20': 74742.58333333333, 'm11': 115778.20833333333, 'm02': 179343.75, 'm30': 16684358.450000001, 'm21': 25844450.433333334, 'm12': 40033705.733333334, 'm03': 62013320.300000004, 'mu20': 0.34259259259852115, 'mu11': 0.2824074074305827, 'mu02': 0.3425925926421769, 'mu30': -0.04485596530139446, 'mu21': -0.016255148854597223, 'mu12': 0.016255137116090168, 'mu03': 0.04485595226287842, 'nu20': 0.1522633744882316, 'nu11': 0.12551440330248118, 'nu02': 0.15226337450763416, 'nu30': -0.016277663245689463, 'nu21': -0.005898788205444389, 'nu12': 0.005898783945688444, 'nu03': 0.016277658514176677}\n"
          ],
          "name": "stdout"
        }
      ]
    },
    {
      "cell_type": "code",
      "metadata": {
        "id": "gDZ6NezdThG7",
        "colab_type": "code",
        "colab": {}
      },
      "source": [
        "#cx = int(M['m10']/M['m00'])\n",
        "#cy = int(M['m01']/M['m00'])"
      ],
      "execution_count": 0,
      "outputs": []
    },
    {
      "cell_type": "code",
      "metadata": {
        "id": "ZYy6Z4_SThJN",
        "colab_type": "code",
        "colab": {
          "base_uri": "https://localhost:8080/",
          "height": 34
        },
        "outputId": "1a7d87c6-8f16-4dae-f82e-742c911eabd7"
      },
      "source": [
        "#area = cv2.contourArea(cnt)\n",
        "#print(area)"
      ],
      "execution_count": 20,
      "outputs": [
        {
          "output_type": "stream",
          "text": [
            "1.5\n"
          ],
          "name": "stdout"
        }
      ]
    },
    {
      "cell_type": "code",
      "metadata": {
        "id": "g-t0IUHSWwII",
        "colab_type": "code",
        "colab": {
          "base_uri": "https://localhost:8080/",
          "height": 34
        },
        "outputId": "f87a73b3-99bf-4d13-f0aa-ca6cff63efef"
      },
      "source": [
        "#perimeter = cv2.arcLength(cnt,True)\n",
        "#print(perimeter)"
      ],
      "execution_count": 22,
      "outputs": [
        {
          "output_type": "stream",
          "text": [
            "208.46803629398346\n"
          ],
          "name": "stdout"
        }
      ]
    },
    {
      "cell_type": "code",
      "metadata": {
        "id": "P7ZQcXfVW7UQ",
        "colab_type": "code",
        "colab": {}
      },
      "source": [
        "#epsilon = 0.1*cv2.arcLength(cnt,True)\n",
        "#approx = cv2.approxPolyDP(cnt,epsilon,True)"
      ],
      "execution_count": 0,
      "outputs": []
    },
    {
      "cell_type": "code",
      "metadata": {
        "id": "icWZ6SrPW-D4",
        "colab_type": "code",
        "colab": {}
      },
      "source": [
        "h#ull = cv2.convexHull(cnt)\n"
      ],
      "execution_count": 0,
      "outputs": []
    },
    {
      "cell_type": "code",
      "metadata": {
        "id": "5LP5xcknW-MG",
        "colab_type": "code",
        "colab": {}
      },
      "source": [
        "import imutils"
      ],
      "execution_count": 0,
      "outputs": []
    },
    {
      "cell_type": "code",
      "metadata": {
        "id": "x_UuzZdIZVMu",
        "colab_type": "code",
        "colab": {}
      },
      "source": [
        "def is_contour_bad(c):\n",
        "\t# approximate the contour\n",
        "\tperi = cv2.arcLength(c, True)\n",
        "\tapprox = cv2.approxPolyDP(c, .2 * peri, True)\n",
        "\t# the contour is 'bad' if it is not a rectangle\n",
        "\treturn not len(approx) >= 3"
      ],
      "execution_count": 0,
      "outputs": []
    },
    {
      "cell_type": "code",
      "metadata": {
        "id": "xAeCxIjkYRS5",
        "colab_type": "code",
        "colab": {
          "base_uri": "https://localhost:8080/",
          "height": 784
        },
        "outputId": "4bb66f5a-2b9f-4f15-ec18-82b654baabf0"
      },
      "source": [
        "\n",
        "cnts = cv2.findContours(edged.copy(), cv2.RETR_LIST, cv2.CHAIN_APPROX_SIMPLE)\n",
        "cnts = imutils.grab_contours(cnts)\n",
        "mask = np.ones(img.shape[:2], dtype=\"uint8\") * 255\n",
        "# loop over the contours\n",
        "for c in cnts:\n",
        "\t# if the contour is bad, draw it on the mask\n",
        "\tif is_contour_bad(c):\n",
        "\t\tcv2.drawContours(mask, [c], -1, 0, -1)\n",
        "# remove the contours from the image and show the resulting images\n",
        "image = cv2.bitwise_and(img, img, mask=mask)\n",
        "cv2_imshow( mask)\n",
        "cv2_imshow(img)\n",
        "cv2.waitKey(0)"
      ],
      "execution_count": 82,
      "outputs": [
        {
          "output_type": "display_data",
          "data": {
            "image/png": "[encoded data removed]",
            "text/plain": [
              "<PIL.Image.Image image mode=L size=500x375 at 0x7F1CA9090160>"
            ]
          },
          "metadata": {
            "tags": []
          }
        },
        {
          "output_type": "display_data",
          "data": {
            "image/png": "[encoded data removed]",
            "text/plain": [
              "<PIL.Image.Image image mode=RGB size=500x375 at 0x7F1CA9090208>"
            ]
          },
          "metadata": {
            "tags": []
          }
        },
        {
          "output_type": "execute_result",
          "data": {
            "text/plain": [
              "-1"
            ]
          },
          "metadata": {
            "tags": []
          },
          "execution_count": 82
        }
      ]
    },
    {
      "cell_type": "code",
      "metadata": {
        "id": "tz3hhNaxYRVe",
        "colab_type": "code",
        "colab": {}
      },
      "source": [
        ""
      ],
      "execution_count": 0,
      "outputs": []
    },
    {
      "cell_type": "code",
      "metadata": {
        "id": "us9ygCgSYRYI",
        "colab_type": "code",
        "colab": {
          "base_uri": "https://localhost:8080/",
          "height": 392
        },
        "outputId": "2e8bfa83-a788-48c6-b85f-b5b2a10302df"
      },
      "source": [
        "\n",
        "cnt = contours[8]\n",
        "\n",
        "hull = cv2.convexHull(cnt,returnPoints = False)\n",
        "defects = cv2.convexityDefects(cnt,hull)\n",
        "\n",
        "for i in range(defects.shape[0]):\n",
        "    s,e,f,d = defects[i,0]\n",
        "    start = tuple(cnt[s][0])\n",
        "    end = tuple(cnt[e][0])\n",
        "    far = tuple(cnt[f][0])\n",
        "    cv2.line(img,start,end,[0,255,0],2)\n",
        "    cv2.circle(img,far,5,[0,0,255],-1)\n",
        "\n",
        "cv2_imshow(img)\n",
        "cv2.waitKey(0)\n",
        "cv2.destroyAllWindows()"
      ],
      "execution_count": 59,
      "outputs": [
        {
          "output_type": "display_data",
          "data": {
            "image/png": "[encoded data removed]",
            "text/plain": [
              "<PIL.Image.Image image mode=RGB size=500x375 at 0x7F1CA9B2CCF8>"
            ]
          },
          "metadata": {
            "tags": []
          }
        }
      ]
    },
    {
      "cell_type": "code",
      "metadata": {
        "id": "Vjz-61LgYRa0",
        "colab_type": "code",
        "colab": {}
      },
      "source": [
        ""
      ],
      "execution_count": 0,
      "outputs": []
    },
    {
      "cell_type": "code",
      "metadata": {
        "id": "28lfNGTOcqm3",
        "colab_type": "code",
        "colab": {}
      },
      "source": [
        ""
      ],
      "execution_count": 0,
      "outputs": []
    },
    {
      "cell_type": "code",
      "metadata": {
        "id": "x3AK2mIwfw-E",
        "colab_type": "code",
        "colab": {
          "base_uri": "https://localhost:8080/",
          "height": 1000
        },
        "outputId": "4be62183-7dce-4b1c-dcd1-b78caa593f40"
      },
      "source": [
        "for cnt in contours : \n",
        "    area = cv2.contourArea(cnt) \n",
        "    rect = cv2.boundingRect(cnt)\n",
        "    x,y,w,h = rect\n",
        "    box = cv2.rectangle(img, (x,y), (x+w,y+h), (0,0,255), 2)\n",
        "    cropped = img[y: y+h, x: x+w]\n",
        "    number_pixels=np.sum(cropped !=0)\n",
        "    print(number_pixels)\n",
        "    cv2_imshow(cropped)\n",
        "    cv2.waitKey(0)\n",
        "    cv2.destroyAllWindows()\n",
        "    cv2.imwrite(\"blobby\"+str(i)+\".png\", cropped)\n",
        "   \n",
        "    # Shortlisting the regions based on there area. \n",
        "    if area > 400:  \n",
        "        approx = cv2.approxPolyDP(cnt,  \n",
        "                                  0.009 * cv2.arcLength(cnt, True), True) \n",
        "   \n",
        "        # Checking if the no. of sides of the selected region is 7. \n",
        "    if(len(approx) == 5):  \n",
        "        cv2.drawContours(img, [approx], 0, (0, 0, 255), 5) \n",
        "   \n",
        "# Showing the image along with outlined arrow. \n",
        "cv2_imshow( img)     \n",
        "cv2.waitKey(0)  \n",
        "cv2.destroyAllWindows() "
      ],
      "execution_count": 77,
      "outputs": [
        {
          "output_type": "stream",
          "text": [
            "2504\n"
          ],
          "name": "stdout"
        },
        {
          "output_type": "display_data",
          "data": {
            "image/png": "[encoded data removed]",
            "text/plain": [
              "<PIL.Image.Image image mode=RGB size=43x30 at 0x7F1CA90CEBA8>"
            ]
          },
          "metadata": {
            "tags": []
          }
        },
        {
          "output_type": "stream",
          "text": [
            "15\n"
          ],
          "name": "stdout"
        },
        {
          "output_type": "display_data",
          "data": {
            "image/png": "[encoded data removed]",
            "text/plain": [
              "<PIL.Image.Image image mode=RGB size=5x3 at 0x7F1CA9B8E6A0>"
            ]
          },
          "metadata": {
            "tags": []
          }
        },
        {
          "output_type": "stream",
          "text": [
            "24\n"
          ],
          "name": "stdout"
        },
        {
          "output_type": "display_data",
          "data": {
            "image/png": "[encoded data removed]",
            "text/plain": [
              "<PIL.Image.Image image mode=RGB size=8x3 at 0x7F1CA98B9160>"
            ]
          },
          "metadata": {
            "tags": []
          }
        },
        {
          "output_type": "stream",
          "text": [
            "78\n"
          ],
          "name": "stdout"
        },
        {
          "output_type": "display_data",
          "data": {
            "image/png": "[encoded data removed]",
            "text/plain": [
              "<PIL.Image.Image image mode=RGB size=13x6 at 0x7F1CA9B8E6A0>"
            ]
          },
          "metadata": {
            "tags": []
          }
        },
        {
          "output_type": "stream",
          "text": [
            "9\n"
          ],
          "name": "stdout"
        },
        {
          "output_type": "display_data",
          "data": {
            "image/png": "[encoded data removed]",
            "text/plain": [
              "<PIL.Image.Image image mode=RGB size=3x3 at 0x7F1CA98B9160>"
            ]
          },
          "metadata": {
            "tags": []
          }
        },
        {
          "output_type": "stream",
          "text": [
            "4\n"
          ],
          "name": "stdout"
        },
        {
          "output_type": "display_data",
          "data": {
            "image/png": "[encoded data removed]",
            "text/plain": [
              "<PIL.Image.Image image mode=RGB size=2x2 at 0x7F1CA9B8E6A0>"
            ]
          },
          "metadata": {
            "tags": []
          }
        },
        {
          "output_type": "stream",
          "text": [
            "5650\n"
          ],
          "name": "stdout"
        },
        {
          "output_type": "display_data",
          "data": {
            "image/png": "[encoded data removed]",
            "text/plain": [
              "<PIL.Image.Image image mode=RGB size=50x159 at 0x7F1CA98B9160>"
            ]
          },
          "metadata": {
            "tags": []
          }
        },
        {
          "output_type": "stream",
          "text": [
            "20\n"
          ],
          "name": "stdout"
        },
        {
          "output_type": "display_data",
          "data": {
            "image/png": "[encoded data removed]",
            "text/plain": [
              "<PIL.Image.Image image mode=RGB size=4x5 at 0x7F1CA9B8E6A0>"
            ]
          },
          "metadata": {
            "tags": []
          }
        },
        {
          "output_type": "stream",
          "text": [
            "12\n"
          ],
          "name": "stdout"
        },
        {
          "output_type": "display_data",
          "data": {
            "image/png": "[encoded data removed]",
            "text/plain": [
              "<PIL.Image.Image image mode=RGB size=3x4 at 0x7F1CA98B9160>"
            ]
          },
          "metadata": {
            "tags": []
          }
        },
        {
          "output_type": "stream",
          "text": [
            "6999\n"
          ],
          "name": "stdout"
        },
        {
          "output_type": "display_data",
          "data": {
            "image/png": "[encoded data removed]",
            "text/plain": [
              "<PIL.Image.Image image mode=RGB size=65x68 at 0x7F1CA9B8E6A0>"
            ]
          },
          "metadata": {
            "tags": []
          }
        },
        {
          "output_type": "stream",
          "text": [
            "1\n"
          ],
          "name": "stdout"
        },
        {
          "output_type": "display_data",
          "data": {
            "image/png": "[encoded data removed]",
            "text/plain": [
              "<PIL.Image.Image image mode=RGB size=1x1 at 0x7F1CA98B9160>"
            ]
          },
          "metadata": {
            "tags": []
          }
        },
        {
          "output_type": "stream",
          "text": [
            "2\n"
          ],
          "name": "stdout"
        },
        {
          "output_type": "display_data",
          "data": {
            "image/png": "[encoded data removed]",
            "text/plain": [
              "<PIL.Image.Image image mode=RGB size=1x2 at 0x7F1CA9B8E6A0>"
            ]
          },
          "metadata": {
            "tags": []
          }
        },
        {
          "output_type": "stream",
          "text": [
            "48\n"
          ],
          "name": "stdout"
        },
        {
          "output_type": "display_data",
          "data": {
            "image/png": "[encoded data removed]",
            "text/plain": [
              "<PIL.Image.Image image mode=RGB size=4x12 at 0x7F1CA98B9160>"
            ]
          },
          "metadata": {
            "tags": []
          }
        },
        {
          "output_type": "stream",
          "text": [
            "29510\n"
          ],
          "name": "stdout"
        },
        {
          "output_type": "display_data",
          "data": {
            "image/png": "[encoded data removed]",
            "text/plain": [
              "<PIL.Image.Image image mode=RGB size=94x227 at 0x7F1CA9B8E6A0>"
            ]
          },
          "metadata": {
            "tags": []
          }
        },
        {
          "output_type": "stream",
          "text": [
            "9\n"
          ],
          "name": "stdout"
        },
        {
          "output_type": "display_data",
          "data": {
            "image/png": "[encoded data removed]",
            "text/plain": [
              "<PIL.Image.Image image mode=RGB size=3x3 at 0x7F1CA98B9160>"
            ]
          },
          "metadata": {
            "tags": []
          }
        },
        {
          "output_type": "stream",
          "text": [
            "146213\n"
          ],
          "name": "stdout"
        },
        {
          "output_type": "display_data",
          "data": {
            "image/png": "[encoded data removed]",
            "text/plain": [
              "<PIL.Image.Image image mode=RGB size=261x291 at 0x7F1CA9B8E6A0>"
            ]
          },
          "metadata": {
            "tags": []
          }
        },
        {
          "output_type": "stream",
          "text": [
            "184143\n"
          ],
          "name": "stdout"
        },
        {
          "output_type": "display_data",
          "data": {
            "image/png": "[encoded data removed]",
            "text/plain": [
              "<PIL.Image.Image image mode=RGB size=377x300 at 0x7F1CA98B9160>"
            ]
          },
          "metadata": {
            "tags": []
          }
        },
        {
          "output_type": "display_data",
          "data": {
            "image/png": "[encoded data removed]",
            "text/plain": [
              "<PIL.Image.Image image mode=RGB size=500x375 at 0x7F1CA9B8E6A0>"
            ]
          },
          "metadata": {
            "tags": []
          }
        }
      ]
    },
    {
      "cell_type": "code",
      "metadata": {
        "id": "Vyq2QZerfxA_",
        "colab_type": "code",
        "colab": {}
      },
      "source": [
        ""
      ],
      "execution_count": 0,
      "outputs": []
    },
    {
      "cell_type": "code",
      "metadata": {
        "id": "um7WtN-HfxDt",
        "colab_type": "code",
        "colab": {}
      },
      "source": [
        ""
      ],
      "execution_count": 0,
      "outputs": []
    },
    {
      "cell_type": "code",
      "metadata": {
        "id": "BfkRwYBlfxGj",
        "colab_type": "code",
        "colab": {}
      },
      "source": [
        ""
      ],
      "execution_count": 0,
      "outputs": []
    },
    {
      "cell_type": "code",
      "metadata": {
        "id": "GJ7RaIhNfxJf",
        "colab_type": "code",
        "colab": {}
      },
      "source": [
        ""
      ],
      "execution_count": 0,
      "outputs": []
    },
    {
      "cell_type": "code",
      "metadata": {
        "id": "AIFFbYajfxMT",
        "colab_type": "code",
        "colab": {}
      },
      "source": [
        ""
      ],
      "execution_count": 0,
      "outputs": []
    },
    {
      "cell_type": "code",
      "metadata": {
        "id": "-VMGI8V8cqr8",
        "colab_type": "code",
        "colab": {}
      },
      "source": [
        ""
      ],
      "execution_count": 0,
      "outputs": []
    },
    {
      "cell_type": "code",
      "metadata": {
        "id": "Pb8XKQHocquj",
        "colab_type": "code",
        "colab": {
          "base_uri": "https://localhost:8080/",
          "height": 265
        },
        "outputId": "613487b7-2023-44a5-833c-9c39d24033e0"
      },
      "source": [
        "histr = cv2.calcHist([img],[0],None,[256],[0,256]) \n",
        "  \n",
        "# show the plotting graph of an image \n",
        "plt.plot(histr) \n",
        "plt.show()"
      ],
      "execution_count": 69,
      "outputs": [
        {
          "output_type": "display_data",
          "data": {
            "image/png": "[encoded data removed]",
            "text/plain": [
              "<Figure size 432x288 with 1 Axes>"
            ]
          },
          "metadata": {
            "tags": []
          }
        }
      ]
    },
    {
      "cell_type": "code",
      "metadata": {
        "id": "48WfPoszcqxO",
        "colab_type": "code",
        "colab": {
          "base_uri": "https://localhost:8080/",
          "height": 265
        },
        "outputId": "4587bf5c-929a-4233-c72f-fded3653e42e"
      },
      "source": [
        "plt.hist(img.ravel(),256,[0,256]) \n",
        "plt.show()"
      ],
      "execution_count": 70,
      "outputs": [
        {
          "output_type": "display_data",
          "data": {
            "image/png": "[encoded data removed]",
            "text/plain": [
              "<Figure size 432x288 with 1 Axes>"
            ]
          },
          "metadata": {
            "tags": []
          }
        }
      ]
    },
    {
      "cell_type": "code",
      "metadata": {
        "id": "vnIjA3uAYRdn",
        "colab_type": "code",
        "colab": {}
      },
      "source": [
        ""
      ],
      "execution_count": 0,
      "outputs": []
    },
    {
      "cell_type": "code",
      "metadata": {
        "id": "UBWPB5XjThL5",
        "colab_type": "code",
        "colab": {}
      },
      "source": [
        ""
      ],
      "execution_count": 0,
      "outputs": []
    },
    {
      "cell_type": "code",
      "metadata": {
        "id": "L-LrUvdQbKTh",
        "colab_type": "code",
        "colab": {
          "base_uri": "https://localhost:8080/",
          "height": 1000
        },
        "outputId": "ed9fdcf1-b69d-45f5-93ef-77fe8e435503"
      },
      "source": [
        "for i,c in enumerate(contours):\n",
        "    rect = cv2.boundingRect(c)\n",
        "    x,y,w,h = rect\n",
        "    box = cv2.rectangle(img, (x,y), (x+w,y+h), (0,0,255), 2)\n",
        "    cropped = img[y: y+h, x: x+w]\n",
        "    number_pixels=np.sum(cropped !=0)\n",
        "    print(number_pixels)\n",
        "    cv2_imshow(cropped)\n",
        "    cv2.waitKey(0)\n",
        "    cv2.destroyAllWindows()\n",
        "    cv2.imwrite(\"blobby\"+str(i)+\".png\", cropped)\n",
        "\n",
        "\n",
        "cv2_imshow(img)\n",
        "cv2.waitKey(0)\n",
        "cv2.destroyAllWindows()"
      ],
      "execution_count": 68,
      "outputs": [
        {
          "output_type": "stream",
          "text": [
            "2925\n"
          ],
          "name": "stdout"
        },
        {
          "output_type": "display_data",
          "data": {
            "image/png": "[encoded data removed]",
            "text/plain": [
              "<PIL.Image.Image image mode=RGB size=48x32 at 0x7F66BA1300B8>"
            ]
          },
          "metadata": {
            "tags": []
          }
        },
        {
          "output_type": "stream",
          "text": [
            "353\n"
          ],
          "name": "stdout"
        },
        {
          "output_type": "display_data",
          "data": {
            "image/png": "[encoded data removed]",
            "text/plain": [
              "<PIL.Image.Image image mode=RGB size=11x33 at 0x7F66BA1300F0>"
            ]
          },
          "metadata": {
            "tags": []
          }
        },
        {
          "output_type": "stream",
          "text": [
            "7185\n"
          ],
          "name": "stdout"
        },
        {
          "output_type": "display_data",
          "data": {
            "image/png": "[encoded data removed]",
            "text/plain": [
              "<PIL.Image.Image image mode=RGB size=44x170 at 0x7F66BA130080>"
            ]
          },
          "metadata": {
            "tags": []
          }
        },
        {
          "output_type": "stream",
          "text": [
            "2781\n"
          ],
          "name": "stdout"
        },
        {
          "output_type": "display_data",
          "data": {
            "image/png": "[encoded data removed]",
            "text/plain": [
              "<PIL.Image.Image image mode=RGB size=21x170 at 0x7F66BA130128>"
            ]
          },
          "metadata": {
            "tags": []
          }
        },
        {
          "output_type": "stream",
          "text": [
            "9\n"
          ],
          "name": "stdout"
        },
        {
          "output_type": "display_data",
          "data": {
            "image/png": "[encoded data removed]",
            "text/plain": [
              "<PIL.Image.Image image mode=RGB size=3x3 at 0x7F66BA130160>"
            ]
          },
          "metadata": {
            "tags": []
          }
        },
        {
          "output_type": "stream",
          "text": [
            "6571\n"
          ],
          "name": "stdout"
        },
        {
          "output_type": "display_data",
          "data": {
            "image/png": "[encoded data removed]",
            "text/plain": [
              "<PIL.Image.Image image mode=RGB size=60x63 at 0x7F66BA130FD0>"
            ]
          },
          "metadata": {
            "tags": []
          }
        },
        {
          "output_type": "stream",
          "text": [
            "32108\n"
          ],
          "name": "stdout"
        },
        {
          "output_type": "display_data",
          "data": {
            "image/png": "[encoded data removed]",
            "text/plain": [
              "<PIL.Image.Image image mode=RGB size=99x232 at 0x7F66BA1300F0>"
            ]
          },
          "metadata": {
            "tags": []
          }
        },
        {
          "output_type": "stream",
          "text": [
            "149528\n"
          ],
          "name": "stdout"
        },
        {
          "output_type": "display_data",
          "data": {
            "image/png": "[encoded data removed]",
            "text/plain": [
              "<PIL.Image.Image image mode=RGB size=266x293 at 0x7F66BA130080>"
            ]
          },
          "metadata": {
            "tags": []
          }
        },
        {
          "output_type": "stream",
          "text": [
            "187496\n"
          ],
          "name": "stdout"
        },
        {
          "output_type": "display_data",
          "data": {
            "image/png": "[encoded data removed]",
            "text/plain": [
              "<PIL.Image.Image image mode=RGB size=372x297 at 0x7F66BA130128>"
            ]
          },
          "metadata": {
            "tags": []
          }
        },
        {
          "output_type": "display_data",
          "data": {
            "image/png": "[encoded data removed]",
            "text/plain": [
              "<PIL.Image.Image image mode=RGB size=500x375 at 0x7F66BA13B588>"
            ]
          },
          "metadata": {
            "tags": []
          }
        }
      ]
    },
    {
      "cell_type": "code",
      "metadata": {
        "id": "mujAD2yJVvxg",
        "colab_type": "code",
        "colab": {}
      },
      "source": [
        ""
      ],
      "execution_count": 0,
      "outputs": []
    },
    {
      "cell_type": "code",
      "metadata": {
        "id": "OVBQr9qckt-4",
        "colab_type": "code",
        "colab": {
          "base_uri": "https://localhost:8080/",
          "height": 409
        },
        "outputId": "c8a36fe8-41e4-4629-d6c9-bdd56e977433"
      },
      "source": [
        "\n",
        "edged = cv2.Canny(img, 10, 250)\n",
        "(cnts, _) = cv2.findContours(edged.copy(), cv2.RETR_EXTERNAL, cv2.CHAIN_APPROX_SIMPLE)\n",
        "idx = 0\n",
        "for c in cnts:\n",
        "\tx,y,w,h = cv2.boundingRect(c)\n",
        "\tif w>50 and h>50:\n",
        "\t\tidx+=1\n",
        "\t\tnew_img=img[y:y+h,x:x+w]\n",
        "\t\tcv2.imwrite(str(idx) + '.png', new_img)\n",
        "cv2_imshow(img)\n",
        "cv2.waitKey(0)"
      ],
      "execution_count": 109,
      "outputs": [
        {
          "output_type": "display_data",
          "data": {
            "image/png": "[encoded data removed]",
            "text/plain": [
              "<PIL.Image.Image image mode=RGB size=500x375 at 0x7F66BA1C1E10>"
            ]
          },
          "metadata": {
            "tags": []
          }
        },
        {
          "output_type": "execute_result",
          "data": {
            "text/plain": [
              "-1"
            ]
          },
          "metadata": {
            "tags": []
          },
          "execution_count": 109
        }
      ]
    }
  ]
}